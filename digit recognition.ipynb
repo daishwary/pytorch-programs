{
 "cells": [
  {
   "cell_type": "code",
   "execution_count": 2,
   "metadata": {},
   "outputs": [],
   "source": [
    "import torch \n",
    "import torchvision"
   ]
  },
  {
   "cell_type": "code",
   "execution_count": 3,
   "metadata": {},
   "outputs": [
    {
     "name": "stdout",
     "output_type": "stream",
     "text": "cuda:0\n"
    }
   ],
   "source": [
    "device = torch.device(\"cuda:0\" if torch.cuda.is_available() else \"cpu\")\n",
    "\n",
    "# Assuming that we are on a CUDA machine, this should print a CUDA device:\n",
    "print(device)"
   ]
  },
  {
   "cell_type": "code",
   "execution_count": 4,
   "metadata": {},
   "outputs": [
    {
     "data": {
      "text/plain": "<torch._C.Generator at 0x7f2a279524d0>"
     },
     "execution_count": 4,
     "metadata": {},
     "output_type": "execute_result"
    }
   ],
   "source": [
    "n_epochs = 2\n",
    "batch_size_train = 128\n",
    "batch_size_test = 128\n",
    "learning_rate = 0.01\n",
    "momentum = 0.5\n",
    "log_interval = 10\n",
    "\n",
    "random_seed = 1\n",
    "torch.backends.cudnn.enabled = False\n",
    "torch.manual_seed(random_seed)"
   ]
  },
  {
   "cell_type": "code",
   "execution_count": 5,
   "metadata": {},
   "outputs": [],
   "source": [
    "train_loader = torch.utils.data.DataLoader(\n",
    "torchvision.datasets.MNIST('~/Downloads/', train=True, download=True,\n",
    "                          transform=torchvision.transforms.Compose([\n",
    "                              torchvision.transforms.ToTensor(),\n",
    "                              torchvision.transforms.Normalize(\n",
    "                              (0.1307,), (0.3081,))\n",
    "                          ])),\n",
    "batch_size=batch_size_train, shuffle=True)\n",
    "\n",
    "test_loader = torch.utils.data.DataLoader(\n",
    "torchvision.datasets.MNIST('~/Downloads/', train=False, download=True,\n",
    "                          transform=torchvision.transforms.Compose([\n",
    "                              torchvision.transforms.ToTensor(),\n",
    "                              torchvision.transforms.Normalize(\n",
    "                              (0.1307,), (0.3081,))\n",
    "                          ])),\n",
    "batch_size=batch_size_test, shuffle=True)"
   ]
  },
  {
   "cell_type": "code",
   "execution_count": 6,
   "metadata": {},
   "outputs": [],
   "source": [
    "examples = enumerate(test_loader)\n",
    "batch_idx, (example_data, example_targets) = next(examples)"
   ]
  },
  {
   "cell_type": "code",
   "execution_count": 7,
   "metadata": {},
   "outputs": [
    {
     "data": {
      "text/plain": "torch.Size([128, 1, 28, 28])"
     },
     "execution_count": 7,
     "metadata": {},
     "output_type": "execute_result"
    }
   ],
   "source": [
    "example_data.shape"
   ]
  },
  {
   "cell_type": "code",
   "execution_count": 8,
   "metadata": {},
   "outputs": [
    {
     "data": {
      "image/png": "[encoded data removed]",
      "text/plain": [
       "<Figure size 432x288 with 6 Axes>"
      ]
     },
     "execution_count": 8,
     "metadata": {},
     "output_type": "execute_result"
    },
    {
     "data": {
      "image/png": "[encoded data removed]",
      "text/plain": [
       "<Figure size 432x288 with 6 Axes>"
      ]
     },
     "metadata": {},
     "output_type": "display_data"
    }
   ],
   "source": [
    "import matplotlib.pyplot as plt\n",
    "\n",
    "fig = plt.figure()\n",
    "for i in range(6):\n",
    "    plt.subplot(2,3,i+1)\n",
    "    plt.tight_layout()\n",
    "    plt.imshow(example_data[i][0], cmap='gray', interpolation='none')\n",
    "    plt.title('Ground Truth: {}'.format(example_targets[i]))\n",
    "    plt.xticks([])\n",
    "    plt.yticks([])\n",
    "fig"
   ]
  },
  {
   "cell_type": "code",
   "execution_count": 9,
   "metadata": {},
   "outputs": [],
   "source": [
    "import torch.nn as nn\n",
    "import torch.nn.functional as F\n",
    "import torch.optim as optim"
   ]
  },
  {
   "cell_type": "code",
   "execution_count": 10,
   "metadata": {},
   "outputs": [],
   "source": [
    "class Net(nn.Module):\n",
    "    def __init__(self):\n",
    "        super(Net, self).__init__()\n",
    "        self.conv1 = nn.Conv2d(1,10, kernel_size=5)\n",
    "        self.conv2 = nn.Conv2d(10, 20, kernel_size=5)\n",
    "        self.conv2_drop = nn.Dropout2d()\n",
    "        self.fc1 = nn.Linear(320, 50)\n",
    "        self.fc2 = nn.Linear(50, 10)\n",
    "    \n",
    "    def forward(self, x):\n",
    "        x = self.conv1(x)\n",
    "        x = F.max_pool2d(x,2)\n",
    "        x = F.relu(x)\n",
    "        x = self.conv2(x)\n",
    "        x = self.conv2_drop(x)\n",
    "        x = F.max_pool2d(x,2)\n",
    "        x = F.relu(x)\n",
    "        x = x.view(-1,320)\n",
    "        x = self.fc1(x)\n",
    "        x = F.relu(x)\n",
    "        x = F.dropout(x, training=self.training)\n",
    "        x = self.fc2(x)\n",
    "        return F.log_softmax(x)\n",
    "        \n",
    "        "
   ]
  },
  {
   "cell_type": "code",
   "execution_count": 11,
   "metadata": {},
   "outputs": [],
   "source": [
    "network = Net().to(device)\n",
    "optimizer = optim.SGD(network.parameters(), lr=learning_rate,\n",
    "                      momentum=momentum)"
   ]
  },
  {
   "cell_type": "code",
   "execution_count": 12,
   "metadata": {},
   "outputs": [
    {
     "name": "stdout",
     "output_type": "stream",
     "text": "Net(\n  (conv1): Conv2d(1, 10, kernel_size=(5, 5), stride=(1, 1))\n  (conv2): Conv2d(10, 20, kernel_size=(5, 5), stride=(1, 1))\n  (conv2_drop): Dropout2d(p=0.5, inplace=False)\n  (fc1): Linear(in_features=320, out_features=50, bias=True)\n  (fc2): Linear(in_features=50, out_features=10, bias=True)\n)\n"
    }
   ],
   "source": [
    "print(network)"
   ]
  },
  {
   "cell_type": "code",
   "execution_count": null,
   "metadata": {},
   "outputs": [],
   "source": []
  },
  {
   "cell_type": "code",
   "execution_count": 13,
   "metadata": {},
   "outputs": [],
   "source": [
    "train_losses = []\n",
    "train_counter = []\n",
    "test_losses = []\n",
    "test_counter = [i*len(train_loader.dataset) for i in range(n_epochs + 1)]"
   ]
  },
  {
   "cell_type": "code",
   "execution_count": 14,
   "metadata": {},
   "outputs": [],
   "source": [
    "def train(epoch):\n",
    "    network.train()\n",
    "    for batch_idx, (data, target) in enumerate(train_loader):\n",
    "        data, target = data.to(device), target.to(device)\n",
    "        optimizer.zero_grad()\n",
    "        output = network(data)\n",
    "        loss = F.nll_loss(output, target)\n",
    "        loss.backward()\n",
    "        optimizer.step()\n",
    "        if batch_idx % log_interval == 0:\n",
    "            print('Train Epoch: {} [{}/{} ({:.0f}%)]\\tLoss: {:.6f}'.format(\n",
    "                 epoch, batch_idx * len(data), len(train_loader.dataset),\n",
    "                 100. * batch_idx / len(train_loader), loss.item()))\n",
    "            train_losses.append(loss.item())\n",
    "            train_counter.append(\n",
    "            (batch_idx*64) + ((epoch-1)*len(train_loader.dataset)))\n",
    "            torch.save(network.state_dict(), './output/model.pth')\n",
    "            torch.save(optimizer.state_dict(), './output/optimizer.pth')"
   ]
  },
  {
   "cell_type": "code",
   "execution_count": 15,
   "metadata": {},
   "outputs": [],
   "source": [
    "def test():\n",
    "    network.eval()\n",
    "    test_loss = 0\n",
    "    correct = 0\n",
    "    with torch.no_grad():\n",
    "        for data, target in test_loader:\n",
    "            data, target = data.to(device), target.to(device)\n",
    "            output = network(data)\n",
    "            test_loss += F.nll_loss(output, target, size_average=False).item()\n",
    "            pred = output.data.max(1, keepdim=True)[1]\n",
    "            correct += pred.eq(target.data.view_as(pred)).sum()\n",
    "        test_loss /= len(test_loader.dataset)\n",
    "        test_losses.append(test_loss)\n",
    "        print('\\nTest set: Avg. loss: {:.4f}, Accuracy: {}/{} ({:.0f}%)\\n'.format(\n",
    "        test_loss, correct, len(test_loader.dataset),\n",
    "        100. * correct / len(test_loader.dataset)))"
   ]
  },
  {
   "cell_type": "code",
   "execution_count": 16,
   "metadata": {},
   "outputs": [
    {
     "data": {
      "text/plain": "Dataset MNIST\n    Number of datapoints: 10000\n    Root location: /home/karan/Downloads/\n    Split: Test\n    StandardTransform\nTransform: Compose(\n               ToTensor()\n               Normalize(mean=(0.1307,), std=(0.3081,))\n           )"
     },
     "execution_count": 16,
     "metadata": {},
     "output_type": "execute_result"
    }
   ],
   "source": [
    "test_loader.dataset"
   ]
  },
  {
   "cell_type": "code",
   "execution_count": 17,
   "metadata": {},
   "outputs": [
    {
     "name": "stdout",
     "output_type": "stream",
     "text": "\nTest set: Avg. loss: 2.3004, Accuracy: 751/10000 (8%)\n\nTrain Epoch: 1 [0/60000 (0%)]\tLoss: 2.331745\nTrain Epoch: 1 [1280/60000 (2%)]\tLoss: 2.307435\nTrain Epoch: 1 [2560/60000 (4%)]\tLoss: 2.289412\nTrain Epoch: 1 [3840/60000 (6%)]\tLoss: 2.269871\nTrain Epoch: 1 [5120/60000 (9%)]\tLoss: 2.246026\nTrain Epoch: 1 [6400/60000 (11%)]\tLoss: 2.213428\nTrain Epoch: 1 [7680/60000 (13%)]\tLoss: 2.109425\nTrain Epoch: 1 [8960/60000 (15%)]\tLoss: 2.109599\nTrain Epoch: 1 [10240/60000 (17%)]\tLoss: 1.923808\nTrain Epoch: 1 [11520/60000 (19%)]\tLoss: 1.923711\nTrain Epoch: 1 [12800/60000 (21%)]\tLoss: 1.786777\nTrain Epoch: 1 [14080/60000 (23%)]\tLoss: 1.719109\nTrain Epoch: 1 [15360/60000 (26%)]\tLoss: 1.589835\nTrain Epoch: 1 [16640/60000 (28%)]\tLoss: 1.533771\nTrain Epoch: 1 [17920/60000 (30%)]\tLoss: 1.433489\nTrain Epoch: 1 [19200/60000 (32%)]\tLoss: 1.392532\nTrain Epoch: 1 [20480/60000 (34%)]\tLoss: 1.336394\nTrain Epoch: 1 [21760/60000 (36%)]\tLoss: 1.185301\nTrain Epoch: 1 [23040/60000 (38%)]\tLoss: 1.257516\nTrain Epoch: 1 [24320/60000 (41%)]\tLoss: 1.175437\nTrain Epoch: 1 [25600/60000 (43%)]\tLoss: 1.103230\nTrain Epoch: 1 [26880/60000 (45%)]\tLoss: 0.972865\nTrain Epoch: 1 [28160/60000 (47%)]\tLoss: 1.098463\nTrain Epoch: 1 [29440/60000 (49%)]\tLoss: 0.961015\nTrain Epoch: 1 [30720/60000 (51%)]\tLoss: 1.006942\nTrain Epoch: 1 [32000/60000 (53%)]\tLoss: 0.900290\nTrain Epoch: 1 [33280/60000 (55%)]\tLoss: 0.979060\nTrain Epoch: 1 [34560/60000 (58%)]\tLoss: 0.927015\nTrain Epoch: 1 [35840/60000 (60%)]\tLoss: 0.865083\nTrain Epoch: 1 [37120/60000 (62%)]\tLoss: 0.868903\nTrain Epoch: 1 [38400/60000 (64%)]\tLoss: 0.942850\nTrain Epoch: 1 [39680/60000 (66%)]\tLoss: 0.989446\nTrain Epoch: 1 [40960/60000 (68%)]\tLoss: 0.857358\nTrain Epoch: 1 [42240/60000 (70%)]\tLoss: 0.802689\nTrain Epoch: 1 [43520/60000 (72%)]\tLoss: 0.827878\nTrain Epoch: 1 [44800/60000 (75%)]\tLoss: 0.721973\nTrain Epoch: 1 [46080/60000 (77%)]\tLoss: 0.818479\nTrain Epoch: 1 [47360/60000 (79%)]\tLoss: 0.704652\nTrain Epoch: 1 [48640/60000 (81%)]\tLoss: 0.622522\nTrain Epoch: 1 [49920/60000 (83%)]\tLoss: 0.601061\nTrain Epoch: 1 [51200/60000 (85%)]\tLoss: 0.840827\nTrain Epoch: 1 [52480/60000 (87%)]\tLoss: 0.689844\nTrain Epoch: 1 [53760/60000 (90%)]\tLoss: 0.651441\nTrain Epoch: 1 [55040/60000 (92%)]\tLoss: 0.753139\nTrain Epoch: 1 [56320/60000 (94%)]\tLoss: 0.664003\nTrain Epoch: 1 [57600/60000 (96%)]\tLoss: 0.612541\nTrain Epoch: 1 [58880/60000 (98%)]\tLoss: 0.910180\n\nTest set: Avg. loss: 0.3455, Accuracy: 9071/10000 (91%)\n\nTrain Epoch: 2 [0/60000 (0%)]\tLoss: 0.730185\nTrain Epoch: 2 [1280/60000 (2%)]\tLoss: 0.815058\nTrain Epoch: 2 [2560/60000 (4%)]\tLoss: 0.925911\nTrain Epoch: 2 [3840/60000 (6%)]\tLoss: 0.740072\nTrain Epoch: 2 [5120/60000 (9%)]\tLoss: 0.708885\nTrain Epoch: 2 [6400/60000 (11%)]\tLoss: 0.789192\nTrain Epoch: 2 [7680/60000 (13%)]\tLoss: 0.549545\nTrain Epoch: 2 [8960/60000 (15%)]\tLoss: 0.800785\nTrain Epoch: 2 [10240/60000 (17%)]\tLoss: 0.583126\nTrain Epoch: 2 [11520/60000 (19%)]\tLoss: 0.569726\nTrain Epoch: 2 [12800/60000 (21%)]\tLoss: 0.524408\nTrain Epoch: 2 [14080/60000 (23%)]\tLoss: 0.634789\nTrain Epoch: 2 [15360/60000 (26%)]\tLoss: 0.583177\nTrain Epoch: 2 [16640/60000 (28%)]\tLoss: 0.621869\nTrain Epoch: 2 [17920/60000 (30%)]\tLoss: 0.543465\nTrain Epoch: 2 [19200/60000 (32%)]\tLoss: 0.482249\nTrain Epoch: 2 [20480/60000 (34%)]\tLoss: 0.610544\nTrain Epoch: 2 [21760/60000 (36%)]\tLoss: 0.449839\nTrain Epoch: 2 [23040/60000 (38%)]\tLoss: 0.460389\nTrain Epoch: 2 [24320/60000 (41%)]\tLoss: 0.550073\nTrain Epoch: 2 [25600/60000 (43%)]\tLoss: 0.564277\nTrain Epoch: 2 [26880/60000 (45%)]\tLoss: 0.532775\nTrain Epoch: 2 [28160/60000 (47%)]\tLoss: 0.640511\nTrain Epoch: 2 [29440/60000 (49%)]\tLoss: 0.515740\nTrain Epoch: 2 [30720/60000 (51%)]\tLoss: 0.704595\nTrain Epoch: 2 [32000/60000 (53%)]\tLoss: 0.483820\nTrain Epoch: 2 [33280/60000 (55%)]\tLoss: 0.398960\nTrain Epoch: 2 [34560/60000 (58%)]\tLoss: 0.607519\nTrain Epoch: 2 [35840/60000 (60%)]\tLoss: 0.597182\nTrain Epoch: 2 [37120/60000 (62%)]\tLoss: 0.558247\nTrain Epoch: 2 [38400/60000 (64%)]\tLoss: 0.600062\nTrain Epoch: 2 [39680/60000 (66%)]\tLoss: 0.367588\nTrain Epoch: 2 [40960/60000 (68%)]\tLoss: 0.619693\nTrain Epoch: 2 [42240/60000 (70%)]\tLoss: 0.519465\nTrain Epoch: 2 [43520/60000 (72%)]\tLoss: 0.500132\nTrain Epoch: 2 [44800/60000 (75%)]\tLoss: 0.426566\nTrain Epoch: 2 [46080/60000 (77%)]\tLoss: 0.410557\nTrain Epoch: 2 [47360/60000 (79%)]\tLoss: 0.378535\nTrain Epoch: 2 [48640/60000 (81%)]\tLoss: 0.412249\nTrain Epoch: 2 [49920/60000 (83%)]\tLoss: 0.507519\nTrain Epoch: 2 [51200/60000 (85%)]\tLoss: 0.463233\nTrain Epoch: 2 [52480/60000 (87%)]\tLoss: 0.555069\nTrain Epoch: 2 [53760/60000 (90%)]\tLoss: 0.355756\nTrain Epoch: 2 [55040/60000 (92%)]\tLoss: 0.396225\nTrain Epoch: 2 [56320/60000 (94%)]\tLoss: 0.568304\nTrain Epoch: 2 [57600/60000 (96%)]\tLoss: 0.391922\nTrain Epoch: 2 [58880/60000 (98%)]\tLoss: 0.595466\n\nTest set: Avg. loss: 0.2028, Accuracy: 9437/10000 (94%)\n\nCPU times: user 39.7 s, sys: 154 ms, total: 39.8 s\nWall time: 40.3 s\n"
    }
   ],
   "source": [
    "%%time\n",
    "test()\n",
    "for epoch in range(1, n_epochs + 1):\n",
    "    train(epoch)\n",
    "    test()"
   ]
  },
  {
   "cell_type": "markdown",
   "metadata": {},
   "source": [
    "**Evaluating the Model's Performance**"
   ]
  },
  {
   "cell_type": "code",
   "execution_count": 18,
   "metadata": {
    "scrolled": true
   },
   "outputs": [
    {
     "data": {
      "image/png": "[encoded data removed]",
      "text/plain": [
       "<Figure size 432x288 with 1 Axes>"
      ]
     },
     "execution_count": 18,
     "metadata": {},
     "output_type": "execute_result"
    },
    {
     "data": {
      "image/png": "[encoded data removed]",
      "text/plain": [
       "<Figure size 432x288 with 1 Axes>"
      ]
     },
     "metadata": {
      "needs_background": "light"
     },
     "output_type": "display_data"
    }
   ],
   "source": [
    "fig = plt.figure()\n",
    "plt.plot(train_counter, train_losses, color='blue')\n",
    "plt.scatter(test_counter, test_losses, color='red')\n",
    "plt.legend(['Train Loss', 'Test Loss'], loc='upper right')\n",
    "plt.xlabel('number of training example seen')\n",
    "plt.ylabel('negative log likelihood loss')\n",
    "fig"
   ]
  },
  {
   "cell_type": "code",
   "execution_count": 20,
   "metadata": {},
   "outputs": [
    {
     "name": "stderr",
     "output_type": "stream",
     "text": [
      "/home/karan/.virtualenvs/kj/lib/python3.7/site-packages/ipykernel_launcher.py:23: UserWarning: Implicit dimension choice for log_softmax has been deprecated. Change the call to include dim=X as an argument.\n"
     ]
    }
   ],
   "source": [
    "with torch.no_grad():\n",
    "    output = network(example_data.to(device))"
   ]
  },
  {
   "cell_type": "code",
   "execution_count": 22,
   "metadata": {},
   "outputs": [
    {
     "data": {
      "image/png": "[encoded data removed]",
      "text/plain": [
       "<Figure size 432x288 with 6 Axes>"
      ]
     },
     "execution_count": 22,
     "metadata": {},
     "output_type": "execute_result"
    },
    {
     "data": {
      "image/png": "[encoded data removed]",
      "text/plain": [
       "<Figure size 432x288 with 6 Axes>"
      ]
     },
     "metadata": {},
     "output_type": "display_data"
    }
   ],
   "source": [
    "fig = plt.figure()\n",
    "for i in range(6):\n",
    "    plt.subplot(2,3,i+1)\n",
    "    plt.tight_layout()\n",
    "    plt.imshow(example_data[i][0], cmap='gray', interpolation='none')\n",
    "    plt.title('Prediction: {}'.format(\n",
    "    output.data.max(1, keepdim=True)[1][i].item()))\n",
    "    \n",
    "    plt.xticks([])\n",
    "    plt.yticks([])\n",
    "    \n",
    "fig"
   ]
  },
  {
   "cell_type": "markdown",
   "metadata": {},
   "source": [
    "**Continue training from checkpoints**"
   ]
  },
  {
   "cell_type": "code",
   "execution_count": 24,
   "metadata": {},
   "outputs": [],
   "source": [
    "continued_network = Net()\n",
    "continued_optimizer = optim.SGD(network.parameters(), lr=learning_rate,\n",
    "                               momentum=momentum)"
   ]
  },
  {
   "cell_type": "code",
   "execution_count": 25,
   "metadata": {},
   "outputs": [
    {
     "data": {
      "text/plain": [
       "<All keys matched successfully>"
      ]
     },
     "execution_count": 25,
     "metadata": {},
     "output_type": "execute_result"
    }
   ],
   "source": [
    "network_state_dict = torch.load('./output/model.pth')\n",
    "continued_network.load_state_dict(network_state_dict)"
   ]
  },
  {
   "cell_type": "code",
   "execution_count": 26,
   "metadata": {},
   "outputs": [],
   "source": [
    "optimizer_state_dict = torch.load('./output/optimizer.pth')\n",
    "continued_optimizer.load_state_dict(optimizer_state_dict)"
   ]
  },
  {
   "cell_type": "code",
   "execution_count": 28,
   "metadata": {},
   "outputs": [
    {
     "data": {
      "text/plain": [
       "300000"
      ]
     },
     "execution_count": 28,
     "metadata": {},
     "output_type": "execute_result"
    }
   ],
   "source": [
    "5*len(train_loader.dataset)"
   ]
  },
  {
   "cell_type": "code",
   "execution_count": 31,
   "metadata": {},
   "outputs": [
    {
     "name": "stderr",
     "output_type": "stream",
     "text": [
      "/home/karan/.virtualenvs/kj/lib/python3.7/site-packages/ipykernel_launcher.py:23: UserWarning: Implicit dimension choice for log_softmax has been deprecated. Change the call to include dim=X as an argument.\n"
     ]
    },
    {
     "name": "stdout",
     "output_type": "stream",
     "text": [
      "Train Epoch: 3 [0/60000 (0%)]\tLoss: 0.252393\n",
      "Train Epoch: 3 [1280/60000 (2%)]\tLoss: 0.211800\n",
      "Train Epoch: 3 [2560/60000 (4%)]\tLoss: 0.351402\n",
      "Train Epoch: 3 [3840/60000 (6%)]\tLoss: 0.215965\n",
      "Train Epoch: 3 [5120/60000 (9%)]\tLoss: 0.295773\n",
      "Train Epoch: 3 [6400/60000 (11%)]\tLoss: 0.238147\n",
      "Train Epoch: 3 [7680/60000 (13%)]\tLoss: 0.234068\n",
      "Train Epoch: 3 [8960/60000 (15%)]\tLoss: 0.246795\n",
      "Train Epoch: 3 [10240/60000 (17%)]\tLoss: 0.142247\n",
      "Train Epoch: 3 [11520/60000 (19%)]\tLoss: 0.341399\n",
      "Train Epoch: 3 [12800/60000 (21%)]\tLoss: 0.377778\n",
      "Train Epoch: 3 [14080/60000 (23%)]\tLoss: 0.255945\n",
      "Train Epoch: 3 [15360/60000 (26%)]\tLoss: 0.188261\n",
      "Train Epoch: 3 [16640/60000 (28%)]\tLoss: 0.282368\n",
      "Train Epoch: 3 [17920/60000 (30%)]\tLoss: 0.340832\n",
      "Train Epoch: 3 [19200/60000 (32%)]\tLoss: 0.155059\n",
      "Train Epoch: 3 [20480/60000 (34%)]\tLoss: 0.271244\n",
      "Train Epoch: 3 [21760/60000 (36%)]\tLoss: 0.257063\n",
      "Train Epoch: 3 [23040/60000 (38%)]\tLoss: 0.195762\n",
      "Train Epoch: 3 [24320/60000 (41%)]\tLoss: 0.198253\n",
      "Train Epoch: 3 [25600/60000 (43%)]\tLoss: 0.236293\n",
      "Train Epoch: 3 [26880/60000 (45%)]\tLoss: 0.254148\n",
      "Train Epoch: 3 [28160/60000 (47%)]\tLoss: 0.318222\n",
      "Train Epoch: 3 [29440/60000 (49%)]\tLoss: 0.229317\n",
      "Train Epoch: 3 [30720/60000 (51%)]\tLoss: 0.219246\n",
      "Train Epoch: 3 [32000/60000 (53%)]\tLoss: 0.271343\n",
      "Train Epoch: 3 [33280/60000 (55%)]\tLoss: 0.187264\n",
      "Train Epoch: 3 [34560/60000 (58%)]\tLoss: 0.374215\n",
      "Train Epoch: 3 [35840/60000 (60%)]\tLoss: 0.270958\n",
      "Train Epoch: 3 [37120/60000 (62%)]\tLoss: 0.148428\n",
      "Train Epoch: 3 [38400/60000 (64%)]\tLoss: 0.225658\n",
      "Train Epoch: 3 [39680/60000 (66%)]\tLoss: 0.278006\n",
      "Train Epoch: 3 [40960/60000 (68%)]\tLoss: 0.165166\n",
      "Train Epoch: 3 [42240/60000 (70%)]\tLoss: 0.223605\n",
      "Train Epoch: 3 [43520/60000 (72%)]\tLoss: 0.272257\n",
      "Train Epoch: 3 [44800/60000 (75%)]\tLoss: 0.248946\n",
      "Train Epoch: 3 [46080/60000 (77%)]\tLoss: 0.311553\n",
      "Train Epoch: 3 [47360/60000 (79%)]\tLoss: 0.351960\n",
      "Train Epoch: 3 [48640/60000 (81%)]\tLoss: 0.195892\n",
      "Train Epoch: 3 [49920/60000 (83%)]\tLoss: 0.286520\n",
      "Train Epoch: 3 [51200/60000 (85%)]\tLoss: 0.367109\n",
      "Train Epoch: 3 [52480/60000 (87%)]\tLoss: 0.263426\n",
      "Train Epoch: 3 [53760/60000 (90%)]\tLoss: 0.262344\n",
      "Train Epoch: 3 [55040/60000 (92%)]\tLoss: 0.335287\n",
      "Train Epoch: 3 [56320/60000 (94%)]\tLoss: 0.313848\n",
      "Train Epoch: 3 [57600/60000 (96%)]\tLoss: 0.218902\n",
      "Train Epoch: 3 [58880/60000 (98%)]\tLoss: 0.144465\n"
     ]
    },
    {
     "name": "stderr",
     "output_type": "stream",
     "text": [
      "/home/karan/.virtualenvs/kj/lib/python3.7/site-packages/torch/nn/_reduction.py:43: UserWarning: size_average and reduce args will be deprecated, please use reduction='sum' instead.\n",
      "  warnings.warn(warning.format(ret))\n"
     ]
    },
    {
     "name": "stdout",
     "output_type": "stream",
     "text": [
      "\n",
      "Test set: Avg. loss: 0.0746, Accuracy: 9761/10000 (98%)\n",
      "\n",
      "Train Epoch: 4 [0/60000 (0%)]\tLoss: 0.174849\n",
      "Train Epoch: 4 [1280/60000 (2%)]\tLoss: 0.261874\n",
      "Train Epoch: 4 [2560/60000 (4%)]\tLoss: 0.165239\n",
      "Train Epoch: 4 [3840/60000 (6%)]\tLoss: 0.289015\n",
      "Train Epoch: 4 [5120/60000 (9%)]\tLoss: 0.283202\n",
      "Train Epoch: 4 [6400/60000 (11%)]\tLoss: 0.290234\n",
      "Train Epoch: 4 [7680/60000 (13%)]\tLoss: 0.352926\n",
      "Train Epoch: 4 [8960/60000 (15%)]\tLoss: 0.215842\n",
      "Train Epoch: 4 [10240/60000 (17%)]\tLoss: 0.143285\n",
      "Train Epoch: 4 [11520/60000 (19%)]\tLoss: 0.227099\n",
      "Train Epoch: 4 [12800/60000 (21%)]\tLoss: 0.235144\n",
      "Train Epoch: 4 [14080/60000 (23%)]\tLoss: 0.238212\n",
      "Train Epoch: 4 [15360/60000 (26%)]\tLoss: 0.263507\n",
      "Train Epoch: 4 [16640/60000 (28%)]\tLoss: 0.212193\n",
      "Train Epoch: 4 [17920/60000 (30%)]\tLoss: 0.186694\n",
      "Train Epoch: 4 [19200/60000 (32%)]\tLoss: 0.285113\n",
      "Train Epoch: 4 [20480/60000 (34%)]\tLoss: 0.169623\n",
      "Train Epoch: 4 [21760/60000 (36%)]\tLoss: 0.164369\n",
      "Train Epoch: 4 [23040/60000 (38%)]\tLoss: 0.168650\n",
      "Train Epoch: 4 [24320/60000 (41%)]\tLoss: 0.323562\n",
      "Train Epoch: 4 [25600/60000 (43%)]\tLoss: 0.307838\n",
      "Train Epoch: 4 [26880/60000 (45%)]\tLoss: 0.266062\n",
      "Train Epoch: 4 [28160/60000 (47%)]\tLoss: 0.212412\n",
      "Train Epoch: 4 [29440/60000 (49%)]\tLoss: 0.227032\n",
      "Train Epoch: 4 [30720/60000 (51%)]\tLoss: 0.169751\n",
      "Train Epoch: 4 [32000/60000 (53%)]\tLoss: 0.278474\n",
      "Train Epoch: 4 [33280/60000 (55%)]\tLoss: 0.144741\n",
      "Train Epoch: 4 [34560/60000 (58%)]\tLoss: 0.234343\n",
      "Train Epoch: 4 [35840/60000 (60%)]\tLoss: 0.322470\n",
      "Train Epoch: 4 [37120/60000 (62%)]\tLoss: 0.202712\n",
      "Train Epoch: 4 [38400/60000 (64%)]\tLoss: 0.319330\n",
      "Train Epoch: 4 [39680/60000 (66%)]\tLoss: 0.224377\n",
      "Train Epoch: 4 [40960/60000 (68%)]\tLoss: 0.153171\n",
      "Train Epoch: 4 [42240/60000 (70%)]\tLoss: 0.246890\n",
      "Train Epoch: 4 [43520/60000 (72%)]\tLoss: 0.443977\n",
      "Train Epoch: 4 [44800/60000 (75%)]\tLoss: 0.257422\n",
      "Train Epoch: 4 [46080/60000 (77%)]\tLoss: 0.232357\n",
      "Train Epoch: 4 [47360/60000 (79%)]\tLoss: 0.352145\n",
      "Train Epoch: 4 [48640/60000 (81%)]\tLoss: 0.265823\n",
      "Train Epoch: 4 [49920/60000 (83%)]\tLoss: 0.265212\n",
      "Train Epoch: 4 [51200/60000 (85%)]\tLoss: 0.275858\n",
      "Train Epoch: 4 [52480/60000 (87%)]\tLoss: 0.284800\n",
      "Train Epoch: 4 [53760/60000 (90%)]\tLoss: 0.100263\n",
      "Train Epoch: 4 [55040/60000 (92%)]\tLoss: 0.232256\n",
      "Train Epoch: 4 [56320/60000 (94%)]\tLoss: 0.296458\n",
      "Train Epoch: 4 [57600/60000 (96%)]\tLoss: 0.164353\n",
      "Train Epoch: 4 [58880/60000 (98%)]\tLoss: 0.213533\n",
      "\n",
      "Test set: Avg. loss: 0.0687, Accuracy: 9792/10000 (98%)\n",
      "\n",
      "Train Epoch: 5 [0/60000 (0%)]\tLoss: 0.181806\n",
      "Train Epoch: 5 [1280/60000 (2%)]\tLoss: 0.216019\n",
      "Train Epoch: 5 [2560/60000 (4%)]\tLoss: 0.143801\n",
      "Train Epoch: 5 [3840/60000 (6%)]\tLoss: 0.156634\n",
      "Train Epoch: 5 [5120/60000 (9%)]\tLoss: 0.224557\n",
      "Train Epoch: 5 [6400/60000 (11%)]\tLoss: 0.281485\n",
      "Train Epoch: 5 [7680/60000 (13%)]\tLoss: 0.186605\n",
      "Train Epoch: 5 [8960/60000 (15%)]\tLoss: 0.290189\n",
      "Train Epoch: 5 [10240/60000 (17%)]\tLoss: 0.233005\n",
      "Train Epoch: 5 [11520/60000 (19%)]\tLoss: 0.213541\n",
      "Train Epoch: 5 [12800/60000 (21%)]\tLoss: 0.162277\n",
      "Train Epoch: 5 [14080/60000 (23%)]\tLoss: 0.184218\n",
      "Train Epoch: 5 [15360/60000 (26%)]\tLoss: 0.181361\n",
      "Train Epoch: 5 [16640/60000 (28%)]\tLoss: 0.212203\n",
      "Train Epoch: 5 [17920/60000 (30%)]\tLoss: 0.143938\n",
      "Train Epoch: 5 [19200/60000 (32%)]\tLoss: 0.282886\n",
      "Train Epoch: 5 [20480/60000 (34%)]\tLoss: 0.140032\n",
      "Train Epoch: 5 [21760/60000 (36%)]\tLoss: 0.228867\n",
      "Train Epoch: 5 [23040/60000 (38%)]\tLoss: 0.165807\n",
      "Train Epoch: 5 [24320/60000 (41%)]\tLoss: 0.224352\n",
      "Train Epoch: 5 [25600/60000 (43%)]\tLoss: 0.118791\n",
      "Train Epoch: 5 [26880/60000 (45%)]\tLoss: 0.270657\n",
      "Train Epoch: 5 [28160/60000 (47%)]\tLoss: 0.189063\n",
      "Train Epoch: 5 [29440/60000 (49%)]\tLoss: 0.274498\n",
      "Train Epoch: 5 [30720/60000 (51%)]\tLoss: 0.263491\n",
      "Train Epoch: 5 [32000/60000 (53%)]\tLoss: 0.220607\n",
      "Train Epoch: 5 [33280/60000 (55%)]\tLoss: 0.286997\n",
      "Train Epoch: 5 [34560/60000 (58%)]\tLoss: 0.076361\n",
      "Train Epoch: 5 [35840/60000 (60%)]\tLoss: 0.223185\n",
      "Train Epoch: 5 [37120/60000 (62%)]\tLoss: 0.209118\n",
      "Train Epoch: 5 [38400/60000 (64%)]\tLoss: 0.200320\n",
      "Train Epoch: 5 [39680/60000 (66%)]\tLoss: 0.123008\n",
      "Train Epoch: 5 [40960/60000 (68%)]\tLoss: 0.243744\n",
      "Train Epoch: 5 [42240/60000 (70%)]\tLoss: 0.417691\n",
      "Train Epoch: 5 [43520/60000 (72%)]\tLoss: 0.117670\n",
      "Train Epoch: 5 [44800/60000 (75%)]\tLoss: 0.176907\n",
      "Train Epoch: 5 [46080/60000 (77%)]\tLoss: 0.273659\n",
      "Train Epoch: 5 [47360/60000 (79%)]\tLoss: 0.140710\n",
      "Train Epoch: 5 [48640/60000 (81%)]\tLoss: 0.254770\n",
      "Train Epoch: 5 [49920/60000 (83%)]\tLoss: 0.155312\n",
      "Train Epoch: 5 [51200/60000 (85%)]\tLoss: 0.211800\n",
      "Train Epoch: 5 [52480/60000 (87%)]\tLoss: 0.115868\n",
      "Train Epoch: 5 [53760/60000 (90%)]\tLoss: 0.175769\n",
      "Train Epoch: 5 [55040/60000 (92%)]\tLoss: 0.180839\n",
      "Train Epoch: 5 [56320/60000 (94%)]\tLoss: 0.208729\n",
      "Train Epoch: 5 [57600/60000 (96%)]\tLoss: 0.142007\n",
      "Train Epoch: 5 [58880/60000 (98%)]\tLoss: 0.210177\n",
      "\n",
      "Test set: Avg. loss: 0.0676, Accuracy: 9804/10000 (98%)\n",
      "\n",
      "Train Epoch: 6 [0/60000 (0%)]\tLoss: 0.166985\n",
      "Train Epoch: 6 [1280/60000 (2%)]\tLoss: 0.293083\n",
      "Train Epoch: 6 [2560/60000 (4%)]\tLoss: 0.231837\n",
      "Train Epoch: 6 [3840/60000 (6%)]\tLoss: 0.196809\n",
      "Train Epoch: 6 [5120/60000 (9%)]\tLoss: 0.171965\n",
      "Train Epoch: 6 [6400/60000 (11%)]\tLoss: 0.217216\n",
      "Train Epoch: 6 [7680/60000 (13%)]\tLoss: 0.187592\n",
      "Train Epoch: 6 [8960/60000 (15%)]\tLoss: 0.131319\n",
      "Train Epoch: 6 [10240/60000 (17%)]\tLoss: 0.320042\n",
      "Train Epoch: 6 [11520/60000 (19%)]\tLoss: 0.234970\n",
      "Train Epoch: 6 [12800/60000 (21%)]\tLoss: 0.386470\n",
      "Train Epoch: 6 [14080/60000 (23%)]\tLoss: 0.227131\n",
      "Train Epoch: 6 [15360/60000 (26%)]\tLoss: 0.168962\n",
      "Train Epoch: 6 [16640/60000 (28%)]\tLoss: 0.279819\n",
      "Train Epoch: 6 [17920/60000 (30%)]\tLoss: 0.176656\n",
      "Train Epoch: 6 [19200/60000 (32%)]\tLoss: 0.166218\n",
      "Train Epoch: 6 [20480/60000 (34%)]\tLoss: 0.319058\n",
      "Train Epoch: 6 [21760/60000 (36%)]\tLoss: 0.131142\n",
      "Train Epoch: 6 [23040/60000 (38%)]\tLoss: 0.145638\n",
      "Train Epoch: 6 [24320/60000 (41%)]\tLoss: 0.188015\n",
      "Train Epoch: 6 [25600/60000 (43%)]\tLoss: 0.206121\n",
      "Train Epoch: 6 [26880/60000 (45%)]\tLoss: 0.211468\n",
      "Train Epoch: 6 [28160/60000 (47%)]\tLoss: 0.257570\n",
      "Train Epoch: 6 [29440/60000 (49%)]\tLoss: 0.308489\n",
      "Train Epoch: 6 [30720/60000 (51%)]\tLoss: 0.302572\n",
      "Train Epoch: 6 [32000/60000 (53%)]\tLoss: 0.191883\n",
      "Train Epoch: 6 [33280/60000 (55%)]\tLoss: 0.283509\n",
      "Train Epoch: 6 [34560/60000 (58%)]\tLoss: 0.263158\n",
      "Train Epoch: 6 [35840/60000 (60%)]\tLoss: 0.399079\n",
      "Train Epoch: 6 [37120/60000 (62%)]\tLoss: 0.150543\n",
      "Train Epoch: 6 [38400/60000 (64%)]\tLoss: 0.300317\n",
      "Train Epoch: 6 [39680/60000 (66%)]\tLoss: 0.176456\n",
      "Train Epoch: 6 [40960/60000 (68%)]\tLoss: 0.216194\n",
      "Train Epoch: 6 [42240/60000 (70%)]\tLoss: 0.156146\n",
      "Train Epoch: 6 [43520/60000 (72%)]\tLoss: 0.208486\n",
      "Train Epoch: 6 [44800/60000 (75%)]\tLoss: 0.203191\n",
      "Train Epoch: 6 [46080/60000 (77%)]\tLoss: 0.238260\n",
      "Train Epoch: 6 [47360/60000 (79%)]\tLoss: 0.141736\n",
      "Train Epoch: 6 [48640/60000 (81%)]\tLoss: 0.160365\n",
      "Train Epoch: 6 [49920/60000 (83%)]\tLoss: 0.270647\n",
      "Train Epoch: 6 [51200/60000 (85%)]\tLoss: 0.323122\n",
      "Train Epoch: 6 [52480/60000 (87%)]\tLoss: 0.344136\n",
      "Train Epoch: 6 [53760/60000 (90%)]\tLoss: 0.191411\n",
      "Train Epoch: 6 [55040/60000 (92%)]\tLoss: 0.110412\n",
      "Train Epoch: 6 [56320/60000 (94%)]\tLoss: 0.334994\n",
      "Train Epoch: 6 [57600/60000 (96%)]\tLoss: 0.177956\n",
      "Train Epoch: 6 [58880/60000 (98%)]\tLoss: 0.143872\n",
      "\n",
      "Test set: Avg. loss: 0.0637, Accuracy: 9813/10000 (98%)\n",
      "\n",
      "Train Epoch: 7 [0/60000 (0%)]\tLoss: 0.300557\n",
      "Train Epoch: 7 [1280/60000 (2%)]\tLoss: 0.213910\n",
      "Train Epoch: 7 [2560/60000 (4%)]\tLoss: 0.390341\n",
      "Train Epoch: 7 [3840/60000 (6%)]\tLoss: 0.203943\n",
      "Train Epoch: 7 [5120/60000 (9%)]\tLoss: 0.229148\n",
      "Train Epoch: 7 [6400/60000 (11%)]\tLoss: 0.201231\n",
      "Train Epoch: 7 [7680/60000 (13%)]\tLoss: 0.294916\n",
      "Train Epoch: 7 [8960/60000 (15%)]\tLoss: 0.175685\n",
      "Train Epoch: 7 [10240/60000 (17%)]\tLoss: 0.118379\n",
      "Train Epoch: 7 [11520/60000 (19%)]\tLoss: 0.255270\n",
      "Train Epoch: 7 [12800/60000 (21%)]\tLoss: 0.234337\n",
      "Train Epoch: 7 [14080/60000 (23%)]\tLoss: 0.233169\n",
      "Train Epoch: 7 [15360/60000 (26%)]\tLoss: 0.300422\n",
      "Train Epoch: 7 [16640/60000 (28%)]\tLoss: 0.226203\n",
      "Train Epoch: 7 [17920/60000 (30%)]\tLoss: 0.128308\n",
      "Train Epoch: 7 [19200/60000 (32%)]\tLoss: 0.251689\n",
      "Train Epoch: 7 [20480/60000 (34%)]\tLoss: 0.162746\n",
      "Train Epoch: 7 [21760/60000 (36%)]\tLoss: 0.237591\n",
      "Train Epoch: 7 [23040/60000 (38%)]\tLoss: 0.157747\n",
      "Train Epoch: 7 [24320/60000 (41%)]\tLoss: 0.104725\n"
     ]
    },
    {
     "name": "stdout",
     "output_type": "stream",
     "text": [
      "Train Epoch: 7 [25600/60000 (43%)]\tLoss: 0.291466\n",
      "Train Epoch: 7 [26880/60000 (45%)]\tLoss: 0.177922\n",
      "Train Epoch: 7 [28160/60000 (47%)]\tLoss: 0.117028\n",
      "Train Epoch: 7 [29440/60000 (49%)]\tLoss: 0.094716\n",
      "Train Epoch: 7 [30720/60000 (51%)]\tLoss: 0.402710\n",
      "Train Epoch: 7 [32000/60000 (53%)]\tLoss: 0.125228\n",
      "Train Epoch: 7 [33280/60000 (55%)]\tLoss: 0.260881\n",
      "Train Epoch: 7 [34560/60000 (58%)]\tLoss: 0.212798\n",
      "Train Epoch: 7 [35840/60000 (60%)]\tLoss: 0.171072\n",
      "Train Epoch: 7 [37120/60000 (62%)]\tLoss: 0.153130\n",
      "Train Epoch: 7 [38400/60000 (64%)]\tLoss: 0.149090\n",
      "Train Epoch: 7 [39680/60000 (66%)]\tLoss: 0.102981\n",
      "Train Epoch: 7 [40960/60000 (68%)]\tLoss: 0.212090\n",
      "Train Epoch: 7 [42240/60000 (70%)]\tLoss: 0.121761\n",
      "Train Epoch: 7 [43520/60000 (72%)]\tLoss: 0.171766\n",
      "Train Epoch: 7 [44800/60000 (75%)]\tLoss: 0.212622\n",
      "Train Epoch: 7 [46080/60000 (77%)]\tLoss: 0.150425\n",
      "Train Epoch: 7 [47360/60000 (79%)]\tLoss: 0.119033\n",
      "Train Epoch: 7 [48640/60000 (81%)]\tLoss: 0.280985\n",
      "Train Epoch: 7 [49920/60000 (83%)]\tLoss: 0.219042\n",
      "Train Epoch: 7 [51200/60000 (85%)]\tLoss: 0.181247\n",
      "Train Epoch: 7 [52480/60000 (87%)]\tLoss: 0.259022\n",
      "Train Epoch: 7 [53760/60000 (90%)]\tLoss: 0.232716\n",
      "Train Epoch: 7 [55040/60000 (92%)]\tLoss: 0.231914\n",
      "Train Epoch: 7 [56320/60000 (94%)]\tLoss: 0.178721\n",
      "Train Epoch: 7 [57600/60000 (96%)]\tLoss: 0.274370\n",
      "Train Epoch: 7 [58880/60000 (98%)]\tLoss: 0.198495\n",
      "\n",
      "Test set: Avg. loss: 0.0622, Accuracy: 9812/10000 (98%)\n",
      "\n",
      "Train Epoch: 8 [0/60000 (0%)]\tLoss: 0.132373\n",
      "Train Epoch: 8 [1280/60000 (2%)]\tLoss: 0.336922\n",
      "Train Epoch: 8 [2560/60000 (4%)]\tLoss: 0.244244\n",
      "Train Epoch: 8 [3840/60000 (6%)]\tLoss: 0.218644\n",
      "Train Epoch: 8 [5120/60000 (9%)]\tLoss: 0.163953\n",
      "Train Epoch: 8 [6400/60000 (11%)]\tLoss: 0.170664\n",
      "Train Epoch: 8 [7680/60000 (13%)]\tLoss: 0.283049\n",
      "Train Epoch: 8 [8960/60000 (15%)]\tLoss: 0.161387\n",
      "Train Epoch: 8 [10240/60000 (17%)]\tLoss: 0.197426\n",
      "Train Epoch: 8 [11520/60000 (19%)]\tLoss: 0.142609\n",
      "Train Epoch: 8 [12800/60000 (21%)]\tLoss: 0.305338\n",
      "Train Epoch: 8 [14080/60000 (23%)]\tLoss: 0.172912\n",
      "Train Epoch: 8 [15360/60000 (26%)]\tLoss: 0.197179\n",
      "Train Epoch: 8 [16640/60000 (28%)]\tLoss: 0.293920\n",
      "Train Epoch: 8 [17920/60000 (30%)]\tLoss: 0.253132\n",
      "Train Epoch: 8 [19200/60000 (32%)]\tLoss: 0.166104\n",
      "Train Epoch: 8 [20480/60000 (34%)]\tLoss: 0.310374\n",
      "Train Epoch: 8 [21760/60000 (36%)]\tLoss: 0.181303\n",
      "Train Epoch: 8 [23040/60000 (38%)]\tLoss: 0.196258\n",
      "Train Epoch: 8 [24320/60000 (41%)]\tLoss: 0.090428\n",
      "Train Epoch: 8 [25600/60000 (43%)]\tLoss: 0.203101\n",
      "Train Epoch: 8 [26880/60000 (45%)]\tLoss: 0.370176\n",
      "Train Epoch: 8 [28160/60000 (47%)]\tLoss: 0.263111\n",
      "Train Epoch: 8 [29440/60000 (49%)]\tLoss: 0.104785\n",
      "Train Epoch: 8 [30720/60000 (51%)]\tLoss: 0.218500\n",
      "Train Epoch: 8 [32000/60000 (53%)]\tLoss: 0.285716\n",
      "Train Epoch: 8 [33280/60000 (55%)]\tLoss: 0.211924\n",
      "Train Epoch: 8 [34560/60000 (58%)]\tLoss: 0.112711\n",
      "Train Epoch: 8 [35840/60000 (60%)]\tLoss: 0.112564\n",
      "Train Epoch: 8 [37120/60000 (62%)]\tLoss: 0.076651\n",
      "Train Epoch: 8 [38400/60000 (64%)]\tLoss: 0.105393\n",
      "Train Epoch: 8 [39680/60000 (66%)]\tLoss: 0.250654\n",
      "Train Epoch: 8 [40960/60000 (68%)]\tLoss: 0.330300\n",
      "Train Epoch: 8 [42240/60000 (70%)]\tLoss: 0.196477\n",
      "Train Epoch: 8 [43520/60000 (72%)]\tLoss: 0.222756\n",
      "Train Epoch: 8 [44800/60000 (75%)]\tLoss: 0.167272\n",
      "Train Epoch: 8 [46080/60000 (77%)]\tLoss: 0.396158\n",
      "Train Epoch: 8 [47360/60000 (79%)]\tLoss: 0.211912\n",
      "Train Epoch: 8 [48640/60000 (81%)]\tLoss: 0.207448\n",
      "Train Epoch: 8 [49920/60000 (83%)]\tLoss: 0.216126\n",
      "Train Epoch: 8 [51200/60000 (85%)]\tLoss: 0.159937\n",
      "Train Epoch: 8 [52480/60000 (87%)]\tLoss: 0.228084\n",
      "Train Epoch: 8 [53760/60000 (90%)]\tLoss: 0.141666\n",
      "Train Epoch: 8 [55040/60000 (92%)]\tLoss: 0.158236\n",
      "Train Epoch: 8 [56320/60000 (94%)]\tLoss: 0.211140\n",
      "Train Epoch: 8 [57600/60000 (96%)]\tLoss: 0.229922\n",
      "Train Epoch: 8 [58880/60000 (98%)]\tLoss: 0.159824\n",
      "\n",
      "Test set: Avg. loss: 0.0572, Accuracy: 9828/10000 (98%)\n",
      "\n"
     ]
    }
   ],
   "source": [
    "for i in range(3,9):\n",
    "    test_counter.append(i*len(train_loader.dataset))\n",
    "    train(i)\n",
    "    test()\n",
    "    \n",
    "    "
   ]
  },
  {
   "cell_type": "code",
   "execution_count": 32,
   "metadata": {},
   "outputs": [
    {
     "data": {
      "image/png": "[encoded data removed]",
      "text/plain": [
       "<Figure size 432x288 with 1 Axes>"
      ]
     },
     "execution_count": 32,
     "metadata": {},
     "output_type": "execute_result"
    },
    {
     "data": {
      "image/png": "[encoded data removed]",
      "text/plain": [
       "<Figure size 432x288 with 1 Axes>"
      ]
     },
     "metadata": {
      "needs_background": "light"
     },
     "output_type": "display_data"
    }
   ],
   "source": [
    "fig = plt.figure()\n",
    "plt.plot(train_counter, train_losses, color='blue')\n",
    "plt.scatter(test_counter, test_losses, color='red')\n",
    "plt.legend(['Train Loss', 'Test Loss'], loc='upper right')\n",
    "plt.xlabel('number of training example seen')\n",
    "plt.ylabel('negative log likelihood loss')\n",
    "fig"
   ]
  },
  {
   "cell_type": "code",
   "execution_count": null,
   "metadata": {},
   "outputs": [],
   "source": []
  }
 ],
 "metadata": {
  "kernelspec": {
   "display_name": "Python 3.7.5 64-bit ('kj': venv)",
   "language": "python",
   "name": "python37564bitkjvenv950b0609add14f83a2d9d8432a22d8ac"
  },
  "language_info": {
   "codemirror_mode": {
    "name": "ipython",
    "version": 3
   },
   "file_extension": ".py",
   "mimetype": "text/x-python",
   "name": "python",
   "nbconvert_exporter": "python",
   "pygments_lexer": "ipython3",
   "version": "3.7.5-final"
  }
 },
 "nbformat": 4,
 "nbformat_minor": 4
}