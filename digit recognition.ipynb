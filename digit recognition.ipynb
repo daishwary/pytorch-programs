{
 "cells": [
  {
   "cell_type": "code",
   "execution_count": 132,
   "metadata": {},
   "outputs": [],
   "source": [
    "import torch \n",
    "import torchvision"
   ]
  },
  {
   "cell_type": "code",
   "execution_count": 133,
   "metadata": {},
   "outputs": [
    {
     "name": "stdout",
     "output_type": "stream",
     "text": [
      "cuda:0\n"
     ]
    }
   ],
   "source": [
    "device = torch.device(\"cuda:0\" if torch.cuda.is_available() else \"cpu\")\n",
    "\n",
    "# Assuming that we are on a CUDA machine, this should print a CUDA device:\n",
    "print(device)"
   ]
  },
  {
   "cell_type": "code",
   "execution_count": 134,
   "metadata": {},
   "outputs": [
    {
     "data": {
      "text/plain": [
       "<torch._C.Generator at 0x7f7ce2f301b0>"
      ]
     },
     "execution_count": 134,
     "metadata": {},
     "output_type": "execute_result"
    }
   ],
   "source": [
    "n_epochs = 2\n",
    "batch_size_train = 128\n",
    "batch_size_test = 128\n",
    "learning_rate = 0.01\n",
    "momentum = 0.5\n",
    "log_interval = 10\n",
    "\n",
    "random_seed = 1\n",
    "torch.backends.cudnn.enabled = False\n",
    "torch.manual_seed(random_seed)"
   ]
  },
  {
   "cell_type": "code",
   "execution_count": 135,
   "metadata": {},
   "outputs": [],
   "source": [
    "train_loader = torch.utils.data.DataLoader(\n",
    "torchvision.datasets.MNIST('~/Downloads/', train=True, download=True,\n",
    "                          transform=torchvision.transforms.Compose([\n",
    "                              torchvision.transforms.ToTensor(),\n",
    "                              torchvision.transforms.Normalize(\n",
    "                              (0.1307,), (0.3081,))\n",
    "                          ])),\n",
    "batch_size=batch_size_train, shuffle=True)\n",
    "\n",
    "test_loader = torch.utils.data.DataLoader(\n",
    "torchvision.datasets.MNIST('~/Downloads/', train=False, download=True,\n",
    "                          transform=torchvision.transforms.Compose([\n",
    "                              torchvision.transforms.ToTensor(),\n",
    "                              torchvision.transforms.Normalize(\n",
    "                              (0.1307,), (0.3081,))\n",
    "                          ])),\n",
    "batch_size=batch_size_test, shuffle=True)"
   ]
  },
  {
   "cell_type": "code",
   "execution_count": 136,
   "metadata": {},
   "outputs": [],
   "source": [
    "examples = enumerate(test_loader)\n",
    "batch_idx, (example_data, example_targets) = next(examples)"
   ]
  },
  {
   "cell_type": "code",
   "execution_count": 137,
   "metadata": {},
   "outputs": [
    {
     "data": {
      "text/plain": [
       "torch.Size([128, 1, 28, 28])"
      ]
     },
     "execution_count": 137,
     "metadata": {},
     "output_type": "execute_result"
    }
   ],
   "source": [
    "example_data.shape"
   ]
  },
  {
   "cell_type": "code",
   "execution_count": 138,
   "metadata": {},
   "outputs": [
    {
     "data": {
      "image/png": "[encoded data removed]",
      "text/plain": [
       "<Figure size 432x288 with 6 Axes>"
      ]
     },
     "execution_count": 138,
     "metadata": {},
     "output_type": "execute_result"
    },
    {
     "data": {
      "image/png": "[encoded data removed]",
      "text/plain": [
       "<Figure size 432x288 with 6 Axes>"
      ]
     },
     "metadata": {},
     "output_type": "display_data"
    }
   ],
   "source": [
    "import matplotlib.pyplot as plt\n",
    "\n",
    "fig = plt.figure()\n",
    "for i in range(6):\n",
    "    plt.subplot(2,3,i+1)\n",
    "    plt.tight_layout()\n",
    "    plt.imshow(example_data[i][0], cmap='gray', interpolation='none')\n",
    "    plt.title('Ground Truth: {}'.format(example_targets[i]))\n",
    "    plt.xticks([])\n",
    "    plt.yticks([])\n",
    "fig"
   ]
  },
  {
   "cell_type": "code",
   "execution_count": 139,
   "metadata": {},
   "outputs": [],
   "source": [
    "import torch.nn as nn\n",
    "import torch.nn.functional as F\n",
    "import torch.optim as optim"
   ]
  },
  {
   "cell_type": "code",
   "execution_count": 140,
   "metadata": {},
   "outputs": [],
   "source": [
    "class Net(nn.Module):\n",
    "    def __init__(self):\n",
    "        super(Net, self).__init__()\n",
    "        self.conv1 = nn.Conv2d(1,10, kernel_size=5)\n",
    "        self.conv2 = nn.Conv2d(10, 20, kernel_size=5)\n",
    "        self.conv2_drop = nn.Dropout2d()\n",
    "        self.fc1 = nn.Linear(320, 50)\n",
    "        self.fc2 = nn.Linear(50, 10)\n",
    "    \n",
    "    def forward(self, x):\n",
    "        x = self.conv1(x)\n",
    "        x = F.max_pool2d(x,2)\n",
    "        x = F.relu(x)\n",
    "        x = self.conv2(x)\n",
    "        x = self.conv2_drop(x)\n",
    "        x = F.max_pool2d(x,2)\n",
    "        x = F.relu(x)\n",
    "        x = x.view(-1,320)\n",
    "        x = self.fc1(x)\n",
    "        x = F.relu(x)\n",
    "        x = F.dropout(x, training=self.training)\n",
    "        x = self.fc2(x)\n",
    "        return F.log_softmax(x)\n",
    "        \n",
    "        "
   ]
  },
  {
   "cell_type": "code",
   "execution_count": 141,
   "metadata": {},
   "outputs": [],
   "source": [
    "network = Net().to(device)\n",
    "optimizer = optim.SGD(network.parameters(), lr=learning_rate,\n",
    "                      momentum=momentum)"
   ]
  },
  {
   "cell_type": "code",
   "execution_count": 142,
   "metadata": {},
   "outputs": [
    {
     "name": "stdout",
     "output_type": "stream",
     "text": [
      "Net(\n",
      "  (conv1): Conv2d(1, 10, kernel_size=(5, 5), stride=(1, 1))\n",
      "  (conv2): Conv2d(10, 20, kernel_size=(5, 5), stride=(1, 1))\n",
      "  (conv2_drop): Dropout2d(p=0.5, inplace=False)\n",
      "  (fc1): Linear(in_features=320, out_features=50, bias=True)\n",
      "  (fc2): Linear(in_features=50, out_features=10, bias=True)\n",
      ")\n"
     ]
    }
   ],
   "source": [
    "print(network)"
   ]
  },
  {
   "cell_type": "code",
   "execution_count": 143,
   "metadata": {},
   "outputs": [
    {
     "name": "stdout",
     "output_type": "stream",
     "text": [
      "Tue Feb 25 23:31:19 2020       \r\n",
      "+-----------------------------------------------------------------------------+\r\n",
      "| NVIDIA-SMI 440.59       Driver Version: 440.59       CUDA Version: 10.2     |\r\n",
      "|-------------------------------+----------------------+----------------------+\r\n",
      "| GPU  Name        Persistence-M| Bus-Id        Disp.A | Volatile Uncorr. ECC |\r\n",
      "| Fan  Temp  Perf  Pwr:Usage/Cap|         Memory-Usage | GPU-Util  Compute M. |\r\n",
      "|===============================+======================+======================|\r\n",
      "|   0  GeForce GTX 1050    Off  | 00000000:01:00.0 Off |                  N/A |\r\n",
      "| N/A   38C    P3    N/A /  N/A |    675MiB /  4040MiB |      0%      Default |\r\n",
      "+-------------------------------+----------------------+----------------------+\r\n",
      "                                                                               \r\n",
      "+-----------------------------------------------------------------------------+\r\n",
      "| Processes:                                                       GPU Memory |\r\n",
      "|  GPU       PID   Type   Process name                             Usage      |\r\n",
      "|=============================================================================|\r\n",
      "|    0      1675      G   /usr/lib/xorg/Xorg                            14MiB |\r\n",
      "|    0      2859      G   /usr/lib/xorg/Xorg                            14MiB |\r\n",
      "|    0     12670      C   /home/karan/.virtualenvs/kj/bin/python       633MiB |\r\n",
      "+-----------------------------------------------------------------------------+\r\n"
     ]
    }
   ],
   "source": [
    "!nvidia-smi"
   ]
  },
  {
   "cell_type": "code",
   "execution_count": 144,
   "metadata": {},
   "outputs": [],
   "source": [
    "train_losses = []\n",
    "train_counter = []\n",
    "test_losses = []\n",
    "test_counter = [i*len(train_loader.dataset) for i in range(n_epochs + 1)]"
   ]
  },
  {
   "cell_type": "code",
   "execution_count": 145,
   "metadata": {},
   "outputs": [],
   "source": [
    "def train(epoch):\n",
    "    network.train()\n",
    "    for batch_idx, (data, target) in enumerate(train_loader):\n",
    "        data, target = data.to(device), target.to(device)\n",
    "        optimizer.zero_grad()\n",
    "        output = network(data)\n",
    "        loss = F.nll_loss(output, target)\n",
    "        loss.backward()\n",
    "        optimizer.step()\n",
    "        if batch_idx % log_interval == 0:\n",
    "            print('Train Epoch: {} [{}/{} ({:.0f}%)]\\tLoss: {:.6f}'.format(\n",
    "                 epoch, batch_idx * len(data), len(train_loader.dataset),\n",
    "                 100. * batch_idx / len(train_loader), loss.item()))\n",
    "            train_losses.append(loss.item())\n",
    "            train_counter.append(\n",
    "            (batch_idx*64) + ((epoch-1)*len(train_loader.dataset)))\n",
    "            torch.save(network.state_dict(), './output/model.pth')\n",
    "            torch.save(optimizer.state_dict(), './output/optimizer.pth')"
   ]
  },
  {
   "cell_type": "code",
   "execution_count": 146,
   "metadata": {},
   "outputs": [],
   "source": [
    "def test():\n",
    "    network.eval()\n",
    "    test_loss = 0\n",
    "    correct = 0\n",
    "    with torch.no_grad():\n",
    "        for data, target in test_loader:\n",
    "            data, target = data.to(device), target.to(device)\n",
    "            output = network(data)\n",
    "            test_loss += F.nll_loss(output, target, size_average=False).item()\n",
    "            pred = output.data.max(1, keepdim=True)[1]\n",
    "            correct += pred.eq(target.data.view_as(pred)).sum()\n",
    "        test_loss /= len(test_loader.dataset)\n",
    "        test_losses.append(test_loss)\n",
    "        print('\\nTest set: Avg. loss: {:.4f}, Accuracy: {}/{} ({:.0f}%)\\n'.format(\n",
    "        test_loss, correct, len(test_loader.dataset),\n",
    "        100. * correct / len(test_loader.dataset)))"
   ]
  },
  {
   "cell_type": "code",
   "execution_count": 147,
   "metadata": {},
   "outputs": [
    {
     "data": {
      "text/plain": [
       "Dataset MNIST\n",
       "    Number of datapoints: 10000\n",
       "    Root location: /home/karan/Downloads/\n",
       "    Split: Test\n",
       "    StandardTransform\n",
       "Transform: Compose(\n",
       "               ToTensor()\n",
       "               Normalize(mean=(0.1307,), std=(0.3081,))\n",
       "           )"
      ]
     },
     "execution_count": 147,
     "metadata": {},
     "output_type": "execute_result"
    }
   ],
   "source": [
    "test_loader.dataset"
   ]
  },
  {
   "cell_type": "code",
   "execution_count": 148,
   "metadata": {},
   "outputs": [
    {
     "name": "stderr",
     "output_type": "stream",
     "text": [
      "/home/karan/.virtualenvs/kj/lib/python3.7/site-packages/ipykernel_launcher.py:23: UserWarning: Implicit dimension choice for log_softmax has been deprecated. Change the call to include dim=X as an argument.\n"
     ]
    },
    {
     "name": "stdout",
     "output_type": "stream",
     "text": [
      "\n",
      "Test set: Avg. loss: 2.3004, Accuracy: 751/10000 (8%)\n",
      "\n",
      "Train Epoch: 1 [0/60000 (0%)]\tLoss: 2.331745\n",
      "Train Epoch: 1 [1280/60000 (2%)]\tLoss: 2.307435\n",
      "Train Epoch: 1 [2560/60000 (4%)]\tLoss: 2.289412\n",
      "Train Epoch: 1 [3840/60000 (6%)]\tLoss: 2.269871\n",
      "Train Epoch: 1 [5120/60000 (9%)]\tLoss: 2.246026\n",
      "Train Epoch: 1 [6400/60000 (11%)]\tLoss: 2.213428\n",
      "Train Epoch: 1 [7680/60000 (13%)]\tLoss: 2.109425\n",
      "Train Epoch: 1 [8960/60000 (15%)]\tLoss: 2.109599\n",
      "Train Epoch: 1 [10240/60000 (17%)]\tLoss: 1.923808\n",
      "Train Epoch: 1 [11520/60000 (19%)]\tLoss: 1.923711\n",
      "Train Epoch: 1 [12800/60000 (21%)]\tLoss: 1.786777\n",
      "Train Epoch: 1 [14080/60000 (23%)]\tLoss: 1.719109\n",
      "Train Epoch: 1 [15360/60000 (26%)]\tLoss: 1.589835\n",
      "Train Epoch: 1 [16640/60000 (28%)]\tLoss: 1.533771\n",
      "Train Epoch: 1 [17920/60000 (30%)]\tLoss: 1.433489\n",
      "Train Epoch: 1 [19200/60000 (32%)]\tLoss: 1.392532\n",
      "Train Epoch: 1 [20480/60000 (34%)]\tLoss: 1.336394\n",
      "Train Epoch: 1 [21760/60000 (36%)]\tLoss: 1.185301\n",
      "Train Epoch: 1 [23040/60000 (38%)]\tLoss: 1.257516\n",
      "Train Epoch: 1 [24320/60000 (41%)]\tLoss: 1.175437\n",
      "Train Epoch: 1 [25600/60000 (43%)]\tLoss: 1.103230\n",
      "Train Epoch: 1 [26880/60000 (45%)]\tLoss: 0.972865\n",
      "Train Epoch: 1 [28160/60000 (47%)]\tLoss: 1.098463\n",
      "Train Epoch: 1 [29440/60000 (49%)]\tLoss: 0.961015\n",
      "Train Epoch: 1 [30720/60000 (51%)]\tLoss: 1.006942\n",
      "Train Epoch: 1 [32000/60000 (53%)]\tLoss: 0.900290\n",
      "Train Epoch: 1 [33280/60000 (55%)]\tLoss: 0.979060\n",
      "Train Epoch: 1 [34560/60000 (58%)]\tLoss: 0.927015\n",
      "Train Epoch: 1 [35840/60000 (60%)]\tLoss: 0.865083\n",
      "Train Epoch: 1 [37120/60000 (62%)]\tLoss: 0.868903\n",
      "Train Epoch: 1 [38400/60000 (64%)]\tLoss: 0.942850\n",
      "Train Epoch: 1 [39680/60000 (66%)]\tLoss: 0.989446\n",
      "Train Epoch: 1 [40960/60000 (68%)]\tLoss: 0.857358\n",
      "Train Epoch: 1 [42240/60000 (70%)]\tLoss: 0.802689\n",
      "Train Epoch: 1 [43520/60000 (72%)]\tLoss: 0.827878\n",
      "Train Epoch: 1 [44800/60000 (75%)]\tLoss: 0.721973\n",
      "Train Epoch: 1 [46080/60000 (77%)]\tLoss: 0.818479\n",
      "Train Epoch: 1 [47360/60000 (79%)]\tLoss: 0.704652\n",
      "Train Epoch: 1 [48640/60000 (81%)]\tLoss: 0.622522\n",
      "Train Epoch: 1 [49920/60000 (83%)]\tLoss: 0.601061\n",
      "Train Epoch: 1 [51200/60000 (85%)]\tLoss: 0.840827\n",
      "Train Epoch: 1 [52480/60000 (87%)]\tLoss: 0.689844\n",
      "Train Epoch: 1 [53760/60000 (90%)]\tLoss: 0.651441\n",
      "Train Epoch: 1 [55040/60000 (92%)]\tLoss: 0.753139\n",
      "Train Epoch: 1 [56320/60000 (94%)]\tLoss: 0.664003\n",
      "Train Epoch: 1 [57600/60000 (96%)]\tLoss: 0.612541\n",
      "Train Epoch: 1 [58880/60000 (98%)]\tLoss: 0.910180\n",
      "\n",
      "Test set: Avg. loss: 0.3455, Accuracy: 9071/10000 (91%)\n",
      "\n",
      "Train Epoch: 2 [0/60000 (0%)]\tLoss: 0.730185\n",
      "Train Epoch: 2 [1280/60000 (2%)]\tLoss: 0.815058\n",
      "Train Epoch: 2 [2560/60000 (4%)]\tLoss: 0.925911\n",
      "Train Epoch: 2 [3840/60000 (6%)]\tLoss: 0.740072\n",
      "Train Epoch: 2 [5120/60000 (9%)]\tLoss: 0.708885\n",
      "Train Epoch: 2 [6400/60000 (11%)]\tLoss: 0.789192\n",
      "Train Epoch: 2 [7680/60000 (13%)]\tLoss: 0.549545\n",
      "Train Epoch: 2 [8960/60000 (15%)]\tLoss: 0.800785\n",
      "Train Epoch: 2 [10240/60000 (17%)]\tLoss: 0.583126\n",
      "Train Epoch: 2 [11520/60000 (19%)]\tLoss: 0.569726\n",
      "Train Epoch: 2 [12800/60000 (21%)]\tLoss: 0.524408\n",
      "Train Epoch: 2 [14080/60000 (23%)]\tLoss: 0.634789\n",
      "Train Epoch: 2 [15360/60000 (26%)]\tLoss: 0.583177\n",
      "Train Epoch: 2 [16640/60000 (28%)]\tLoss: 0.621869\n",
      "Train Epoch: 2 [17920/60000 (30%)]\tLoss: 0.543465\n",
      "Train Epoch: 2 [19200/60000 (32%)]\tLoss: 0.482249\n",
      "Train Epoch: 2 [20480/60000 (34%)]\tLoss: 0.610544\n",
      "Train Epoch: 2 [21760/60000 (36%)]\tLoss: 0.449839\n",
      "Train Epoch: 2 [23040/60000 (38%)]\tLoss: 0.460389\n",
      "Train Epoch: 2 [24320/60000 (41%)]\tLoss: 0.550073\n",
      "Train Epoch: 2 [25600/60000 (43%)]\tLoss: 0.564277\n",
      "Train Epoch: 2 [26880/60000 (45%)]\tLoss: 0.532775\n",
      "Train Epoch: 2 [28160/60000 (47%)]\tLoss: 0.640511\n",
      "Train Epoch: 2 [29440/60000 (49%)]\tLoss: 0.515740\n",
      "Train Epoch: 2 [30720/60000 (51%)]\tLoss: 0.704595\n",
      "Train Epoch: 2 [32000/60000 (53%)]\tLoss: 0.483820\n",
      "Train Epoch: 2 [33280/60000 (55%)]\tLoss: 0.398960\n",
      "Train Epoch: 2 [34560/60000 (58%)]\tLoss: 0.607519\n",
      "Train Epoch: 2 [35840/60000 (60%)]\tLoss: 0.597182\n",
      "Train Epoch: 2 [37120/60000 (62%)]\tLoss: 0.558247\n",
      "Train Epoch: 2 [38400/60000 (64%)]\tLoss: 0.600062\n",
      "Train Epoch: 2 [39680/60000 (66%)]\tLoss: 0.367588\n",
      "Train Epoch: 2 [40960/60000 (68%)]\tLoss: 0.619693\n",
      "Train Epoch: 2 [42240/60000 (70%)]\tLoss: 0.519465\n",
      "Train Epoch: 2 [43520/60000 (72%)]\tLoss: 0.500132\n",
      "Train Epoch: 2 [44800/60000 (75%)]\tLoss: 0.426566\n",
      "Train Epoch: 2 [46080/60000 (77%)]\tLoss: 0.410557\n",
      "Train Epoch: 2 [47360/60000 (79%)]\tLoss: 0.378535\n",
      "Train Epoch: 2 [48640/60000 (81%)]\tLoss: 0.412249\n",
      "Train Epoch: 2 [49920/60000 (83%)]\tLoss: 0.507519\n",
      "Train Epoch: 2 [51200/60000 (85%)]\tLoss: 0.463233\n",
      "Train Epoch: 2 [52480/60000 (87%)]\tLoss: 0.555069\n",
      "Train Epoch: 2 [53760/60000 (90%)]\tLoss: 0.355756\n",
      "Train Epoch: 2 [55040/60000 (92%)]\tLoss: 0.396225\n",
      "Train Epoch: 2 [56320/60000 (94%)]\tLoss: 0.568304\n",
      "Train Epoch: 2 [57600/60000 (96%)]\tLoss: 0.391922\n",
      "Train Epoch: 2 [58880/60000 (98%)]\tLoss: 0.595466\n",
      "\n",
      "Test set: Avg. loss: 0.2028, Accuracy: 9437/10000 (94%)\n",
      "\n",
      "CPU times: user 23.4 s, sys: 68.8 ms, total: 23.5 s\n",
      "Wall time: 23.4 s\n"
     ]
    }
   ],
   "source": [
    "%%time\n",
    "test()\n",
    "for epoch in range(1, n_epochs + 1):\n",
    "    train(epoch)\n",
    "    test()"
   ]
  },
  {
   "cell_type": "code",
   "execution_count": null,
   "metadata": {},
   "outputs": [],
   "source": []
  },
  {
   "cell_type": "code",
   "execution_count": null,
   "metadata": {},
   "outputs": [],
   "source": []
  },
  {
   "cell_type": "code",
   "execution_count": null,
   "metadata": {},
   "outputs": [],
   "source": []
  },
  {
   "cell_type": "code",
   "execution_count": null,
   "metadata": {},
   "outputs": [],
   "source": []
  }
 ],
 "metadata": {
  "kernelspec": {
   "display_name": "Python 3",
   "language": "python",
   "name": "python3"
  },
  "language_info": {
   "codemirror_mode": {
    "name": "ipython",
    "version": 3
   },
   "file_extension": ".py",
   "mimetype": "text/x-python",
   "name": "python",
   "nbconvert_exporter": "python",
   "pygments_lexer": "ipython3",
   "version": "3.7.5"
  }
 },
 "nbformat": 4,
 "nbformat_minor": 4
}
